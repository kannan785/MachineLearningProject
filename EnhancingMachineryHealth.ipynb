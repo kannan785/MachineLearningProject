{
  "nbformat": 4,
  "nbformat_minor": 0,
  "metadata": {
    "colab": {
      "provenance": [],
      "authorship_tag": "ABX9TyMVf2CCuWmICdcXjGvnW9Zi"
    },
    "kernelspec": {
      "name": "python3",
      "display_name": "Python 3"
    },
    "language_info": {
      "name": "python"
    }
  },
  "cells": [
    {
      "cell_type": "code",
      "execution_count": null,
      "metadata": {
        "id": "LbeXs4SvT9AJ"
      },
      "outputs": [],
      "source": []
    },
    {
      "cell_type": "code",
      "source": [
        "import pandas as pd\n",
        "import matplotlib.pyplot as plt\n",
        "import numpy as np\n",
        "from sklearn.neighbors import LocalOutlierFactor\n",
        "df=pd.read_csv('a.csv')\n",
        "x = df['V_in']\n",
        "y = df['Vibration_1']\n",
        "X1, X2, y1, y2 = train_test_split(x, y, test_size=0.00077)\n",
        "test= pd.concat([X2,y2], axis=1)\n",
        "test"
      ],
      "metadata": {
        "id": "pR_FHiEfT_C7"
      },
      "execution_count": null,
      "outputs": []
    },
    {
      "cell_type": "code",
      "source": [
        "plt.scatter(X2, y2, marker='o', linestyle='-',s=1)\n",
        "plt.xlabel('voltage')\n",
        "plt.ylabel('vibration')\n",
        "plt.grid(True)\n",
        "plt.show()\n",
        "df= pd.DataFrame()\n",
        "df['v']=X2\n",
        "df['vibration1']=y2\n",
        "series=pd.Series(y2)"
      ],
      "metadata": {
        "id": "vswQKBX9UFY7"
      },
      "execution_count": null,
      "outputs": []
    },
    {
      "cell_type": "code",
      "source": [
        "mean_value = series.mean()\n",
        "std_deviation=series.std()\n",
        "model = LocalOutlierFactor(n_neighbors=40, contamination=std_deviation*.707+mean_value)\n",
        "outlier_scores = model.fit_predict(df)\n",
        "negative_outlier_scores = model.negative_outlier_factor_\n",
        "print(outlier_scores)\n",
        "df['anomoly']=outlier_scores\n",
        "df['outlier_scores']=-negative_outlier_scores\n",
        "plt.figure(figsize=(10, 6))\n",
        "plt.scatter(df['v'], df['vibration1'], c=df['anomoly'], cmap='viridis', s=1)\n",
        "plt.colorbar(label='LOF Score')\n",
        "plt.xlabel('Feature 1')\n",
        "plt.ylabel('Feature 2')\n",
        "plt.title('LOF Density Plot')\n",
        "plt.show()"
      ],
      "metadata": {
        "id": "rnqMISHtUOzT"
      },
      "execution_count": null,
      "outputs": []
    },
    {
      "cell_type": "code",
      "source": [
        "import math\n",
        "def dist(a1,a2,b1,b2):\n",
        " return math.sqrt((a1 - a2) ** 2+(b1 - b2) ** 2)\n",
        "vibe=np.array(df['vibration1'])\n",
        "volt=np.array(df['v'])\n",
        "segments = []\n",
        "current_segment = [vibe[0]]\n",
        "c_volt=[volt[0]]\n",
        "thershold=0\n",
        "j=1\n",
        "for i in range(1, len(vibe)):\n",
        "    distance = dist(vibe[i],current_segment[-1],volt[i],c_volt[-1])\n",
        "    if (((distance <= (thershold/j)*5 ) | (j==1))&(j<100)):\n",
        "        j=j+1\n",
        "        current_segment.append(vibe[i])\n",
        "        c_volt.append(volt[i])\n",
        "        thershold=distance+thershold\n",
        "    else:\n",
        "        j=1\n",
        "        segments.append(current_segment)\n",
        "        current_segment = [vibe[i]]\n",
        "        c_volt=[volt[i]]\n",
        "        thershold=0\n",
        "segments.append(current_segment)"
      ],
      "metadata": {
        "id": "vRl0IRezUcKZ"
      },
      "execution_count": null,
      "outputs": []
    },
    {
      "cell_type": "code",
      "source": [
        "from scipy.stats import entropy\n",
        "import numpy as np\n",
        "csegments=pd.Series(segments)\n",
        "Div_k = [abs(1 - entropy(pd.Series(segment).value_counts(normalize=True))) for segment in csegments]\n",
        "Div_k\n",
        "print(len(Div_k))\n",
        "wei=[(100*Div_k[i]/np.sum(Div_k[0:len(Div_k)]))+0*y for i,segment in enumerate(segments) for y in segment]\n",
        "print(\"Weighted Matrix:\")\n",
        "print(wei)\n",
        "print(len(wei))\n",
        "df['weight']=wei"
      ],
      "metadata": {
        "id": "ddabaddpUgcY"
      },
      "execution_count": null,
      "outputs": []
    },
    {
      "cell_type": "code",
      "source": [
        "n_anomoly=df[df['anomoly']==1]\n",
        "n_anomoly\n",
        "s_anomoly=df[df['anomoly']==-1]\n",
        "plt.figure(figsize=(10, 6))\n",
        "plt.scatter(n_anomoly['v'], n_anomoly['vibration1'], c=n_anomoly['weight'], cmap='viridis', s=1)\n",
        "plt.colorbar(label='LOF Score')\n",
        "plt.xlabel('Feature 1')\n",
        "plt.ylabel('Feature 2')\n",
        "plt.title('LOF Density Plot')\n",
        "plt.show()\n",
        "plt.figure(figsize=(10, 6))\n",
        "plt.scatter(s_anomoly['v'], s_anomoly['vibration1'], c=s_anomoly['weight'], cmap='viridis', s=1)\n",
        "plt.colorbar(label='LOF Score')\n",
        "plt.xlabel('Feature 1')\n",
        "plt.ylabel('Feature 2')\n",
        "plt.title('LOF Density Plot')\n",
        "plt.show()"
      ],
      "metadata": {
        "id": "gvyK41G7Un9H"
      },
      "execution_count": null,
      "outputs": []
    },
    {
      "cell_type": "code",
      "source": [
        "uw=[]\n",
        "for i,w in enumerate(df['weight']):\n",
        " uw.append(w*.5*-negative_outlier_scores[i])\n",
        "wei=pd.Series(uw)\n",
        "t=pd.Series.std(wei)+pd.Series.mean(wei)\n",
        "updated_anomoly=[]\n",
        "j=0\n",
        "for i,w in enumerate(df['weight']):\n",
        "    if (w>t):\n",
        "        j=j+1\n",
        "        updated_anomoly.append(outlier_scores[i]*-1)\n",
        "    else:\n",
        "        updated_anomoly.append(outlier_scores[i])\n",
        "        #print(\"else\")\n",
        "df['ua']=updated_anomoly\n",
        "plt.figure(figsize=(10, 6))\n",
        "plt.scatter(df['v'], df['vibration1'], c=df['ua'], s=1)\n",
        "plt.colorbar(label='LOF Score')\n",
        "plt.xlabel('Feature 1')\n",
        "plt.ylabel('Feature 2')\n",
        "plt.title('LOF Density Plot')\n",
        "plt.show()"
      ],
      "metadata": {
        "id": "QUJKyJ4iUsUB"
      },
      "execution_count": null,
      "outputs": []
    },
    {
      "cell_type": "code",
      "source": [
        "from sklearn.metrics import silhouette_score\n",
        "clusters = np.where(outlier_scores == -1, 0, 1)\n",
        "silhouette_avg = silhouette_score(df,clusters)\n",
        "print(\"The average silhouette_score is :\", silhouette_avg)\n",
        "\n",
        "clusters = np.where(df['ua'] == -1,0, 1)\n",
        "silhouette_avg = silhouette_score(df,clusters)\n",
        "print(\"The average silhouette_score is :\", silhouette_avg)"
      ],
      "metadata": {
        "id": "Qt0_Uw07Uu5u"
      },
      "execution_count": null,
      "outputs": []
    }
  ]
}